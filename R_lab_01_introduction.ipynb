{
 "cells": [
  {
   "cell_type": "markdown",
   "metadata": {},
   "source": [
    "---\n",
    "title: \"Introduction to R\"\n",
    "output:\n",
    "  html_document:\n",
    "---\n",
    "\n",
    "# Introduction\n",
    "\n",
    "In this lab, I will introduce you to R and R Studio.  Both programs are free to download, and you can find links to download the software on the blog (http://tiny.cc/stat_250).\n",
    "\n",
    "In the Behrend computer labs, R Studio can be found in the program menu under \"R Studio.\"  As with many applications.\n",
    "\n",
    "When you first run R Studio, the main screen you will see is the \"Console\" window, which is below this one.  This is window in which you can type commands.  After each command, press enter.  For example:"
   ]
  },
  {
   "cell_type": "code",
   "execution_count": null,
   "metadata": {},
   "outputs": [],
   "source": [
    "2+2"
   ]
  },
  {
   "cell_type": "code",
   "execution_count": null,
   "metadata": {},
   "outputs": [],
   "source": [
    "3*4"
   ]
  },
  {
   "cell_type": "code",
   "execution_count": null,
   "metadata": {},
   "outputs": [],
   "source": [
    "sqrt(16)"
   ]
  },
  {
   "cell_type": "code",
   "execution_count": null,
   "metadata": {},
   "outputs": [],
   "source": [
    "log(123)"
   ]
  },
  {
   "cell_type": "markdown",
   "metadata": {},
   "source": [
    "This shows that you can easily use R as a calculator.  Some tips:\n",
    "\n",
    "* If you want to scroll up to the previous command(s) you have entered, use the up arrow key\n",
    "* If you forget the exact command you want to use, enter the first few letters and hit tab.  A list of possible commands will appear.  Try \"`sq`\".\n",
    "* Help is available, either in the \"Help\" tab in the lower right hand window or you can enter `?log`.  Sometimes the R help can be useful, sometimes it may not be helpful.\n",
    "\n",
    "Since this is a statistics class, we are interested in data sets, not single numbers.  If you want to enter a small data set very quickly, use the `c` command, which stands for \"combine.\""
   ]
  },
  {
   "cell_type": "code",
   "execution_count": null,
   "metadata": {},
   "outputs": [],
   "source": [
    "x <- c(10,14,15,12,13)"
   ]
  },
  {
   "cell_type": "code",
   "execution_count": null,
   "metadata": {},
   "outputs": [],
   "source": [
    "y = c(16,19,14,18,20)"
   ]
  },
  {
   "cell_type": "markdown",
   "metadata": {},
   "source": [
    "Note, the arrow (`<-`) and the equals sign are equivalent.  They assign those values to `x` and `y` respectively.  Once you have the variables `x` and `y` you can perform some operations."
   ]
  },
  {
   "cell_type": "code",
   "execution_count": null,
   "metadata": {},
   "outputs": [],
   "source": [
    "sqrt(x)"
   ]
  },
  {
   "cell_type": "code",
   "execution_count": null,
   "metadata": {},
   "outputs": [],
   "source": [
    "y^2"
   ]
  },
  {
   "cell_type": "code",
   "execution_count": null,
   "metadata": {},
   "outputs": [],
   "source": [
    "sum(x)"
   ]
  },
  {
   "cell_type": "code",
   "execution_count": null,
   "metadata": {},
   "outputs": [],
   "source": [
    "mean(y)"
   ]
  },
  {
   "cell_type": "markdown",
   "metadata": {},
   "source": [
    "In biology, data sets are rarely that small, and they contain more than one variable.  I have put one such data set on the web, bullhead data collected in Presque Ilse Bay.  Here is how you can read it into R."
   ]
  },
  {
   "cell_type": "code",
   "execution_count": null,
   "metadata": {},
   "outputs": [],
   "source": [
    "bullhead <- read.csv(\"http://www.personal.psu.edu/mar36/stat_250/data_pib.csv\")"
   ]
  },
  {
   "cell_type": "code",
   "execution_count": null,
   "metadata": {},
   "outputs": [],
   "source": [
    "bullhead <- read.csv(\"http://tiny.cc/pubh2w\")"
   ]
  },
  {
   "cell_type": "markdown",
   "metadata": {},
   "source": [
    "The command `read.csv` will read any comma delimited file.  It can be located on the internet or on your computer (I will show you that later in the semester).  Once you have read the data into R, you can do a number of things."
   ]
  },
  {
   "cell_type": "code",
   "execution_count": null,
   "metadata": {},
   "outputs": [],
   "source": [
    "head(bullhead)        # First six lines"
   ]
  },
  {
   "cell_type": "code",
   "execution_count": null,
   "metadata": {},
   "outputs": [],
   "source": [
    "bullhead              # The entire data set"
   ]
  },
  {
   "cell_type": "code",
   "execution_count": null,
   "metadata": {},
   "outputs": [],
   "source": [
    "tail(bullhead)        # Last six lines"
   ]
  },
  {
   "cell_type": "code",
   "execution_count": null,
   "metadata": {},
   "outputs": [],
   "source": [
    "names(bullhead)       # What are the variable names"
   ]
  },
  {
   "cell_type": "code",
   "execution_count": null,
   "metadata": {},
   "outputs": [],
   "source": [
    "bullhead$age          # Just the 'age' variable"
   ]
  },
  {
   "cell_type": "markdown",
   "metadata": {},
   "source": [
    "# Tools for Categorical Data\n",
    "\n",
    "Looking at the data, you see that some variables are quantitative and some are categorical.  The categorical variables can be examined with the `table` command."
   ]
  },
  {
   "cell_type": "code",
   "execution_count": null,
   "metadata": {},
   "outputs": [],
   "source": [
    "table(bullhead$sex)"
   ]
  },
  {
   "cell_type": "code",
   "execution_count": null,
   "metadata": {},
   "outputs": [],
   "source": [
    "table(bullhead$pibloc)"
   ]
  },
  {
   "cell_type": "code",
   "execution_count": null,
   "metadata": {},
   "outputs": [],
   "source": [
    "table(bullhead$pibloc,bullhead$sex)"
   ]
  },
  {
   "cell_type": "code",
   "execution_count": null,
   "metadata": {},
   "outputs": [],
   "source": [
    "table(bullhead$pibloc,bullhead$skin)"
   ]
  },
  {
   "cell_type": "code",
   "execution_count": null,
   "metadata": {},
   "outputs": [],
   "source": [
    "table(bullhead$length)"
   ]
  },
  {
   "cell_type": "markdown",
   "metadata": {},
   "source": [
    "You can use `table` on quantitative variables, but the output is not really useful.  Bar charts are the most useful way to plot categorical variables, and we have a number of options in R to use."
   ]
  },
  {
   "cell_type": "code",
   "execution_count": null,
   "metadata": {},
   "outputs": [],
   "source": [
    "barplot(table(bullhead$sex))"
   ]
  },
  {
   "cell_type": "code",
   "execution_count": null,
   "metadata": {},
   "outputs": [],
   "source": [
    "barplot(table(bullhead$sex),names.arg=c(\"Missing\",\"Female\",\"Male\"))"
   ]
  },
  {
   "cell_type": "code",
   "execution_count": null,
   "metadata": {},
   "outputs": [],
   "source": [
    "barplot(table(bullhead$pibloc))"
   ]
  },
  {
   "cell_type": "code",
   "execution_count": null,
   "metadata": {},
   "outputs": [],
   "source": [
    "barplot(table(bullhead$pibloc),cex.names=.75)"
   ]
  },
  {
   "cell_type": "code",
   "execution_count": null,
   "metadata": {},
   "outputs": [],
   "source": [
    "barplot(table(bullhead$pibloc),cex.names=.45,horiz=TRUE)"
   ]
  },
  {
   "cell_type": "markdown",
   "metadata": {},
   "source": [
    "Another way to plot categorical variables is to use a pie chart.  Statisticians are not big fans of pie charts, which I will demonstrate in class."
   ]
  },
  {
   "cell_type": "code",
   "execution_count": null,
   "metadata": {},
   "outputs": [],
   "source": [
    "pie(table(bullhead$sex),labels=c(\"Missing\",\"Female\",\"Male\"))"
   ]
  },
  {
   "cell_type": "code",
   "execution_count": null,
   "metadata": {},
   "outputs": [],
   "source": [
    "pie(table(bullhead$sex),labels=c(\"Missing\",\"Female\",\"Male\"),\n",
    "          col=c(\"wheat\",\"deeppink\",\"blue\"))"
   ]
  },
  {
   "cell_type": "code",
   "execution_count": null,
   "metadata": {},
   "outputs": [],
   "source": [
    "pie(table(bullhead$pibloc))"
   ]
  },
  {
   "cell_type": "markdown",
   "metadata": {},
   "source": [
    "# Tools for Quantitative Data\n",
    "\n",
    "To graphically summarize quantitative data, one solution is a histogram."
   ]
  },
  {
   "cell_type": "code",
   "execution_count": null,
   "metadata": {},
   "outputs": [],
   "source": [
    "hist(bullhead$length)"
   ]
  },
  {
   "cell_type": "code",
   "execution_count": null,
   "metadata": {},
   "outputs": [],
   "source": [
    "hist(bullhead$weight)"
   ]
  },
  {
   "cell_type": "code",
   "execution_count": null,
   "metadata": {},
   "outputs": [],
   "source": [
    "hist(bullhead$weight,breaks=20,main=\"Histogram of Bullhead Weights (g)\")"
   ]
  },
  {
   "cell_type": "code",
   "execution_count": null,
   "metadata": {},
   "outputs": [],
   "source": [
    "hist(bullhead$age)"
   ]
  },
  {
   "cell_type": "markdown",
   "metadata": {},
   "source": [
    "When we look at histograms, we are interested in describing two things: the number of modes and the shape.  We will discuss this in lab/class."
   ]
  }
 ],
 "metadata": {},
 "nbformat": 4,
 "nbformat_minor": 2
}
